{
 "cells": [
  {
   "cell_type": "code",
   "execution_count": 3,
   "metadata": {},
   "outputs": [],
   "source": [
    "### Task 1 - import files\n",
    "\n",
    "import pandas as pd\n",
    "\n",
    "path = 'datasets/'\n",
    "\n",
    "class_csv = pd.read_csv(path + 'class.csv', sep=';')\n",
    "test_level = pd.read_csv(path + 'test_level.csv', sep=';')\n",
    "test = pd.read_csv(path + 'test.csv', sep=';')"
   ]
  },
  {
   "cell_type": "code",
   "execution_count": 2,
   "metadata": {},
   "outputs": [],
   "source": [
    "### Task 2 - check files correctness \n",
    "\n",
    "# Select only rows with integer id\n",
    "test = test[test['student_id'].apply(lambda x: str(x).isdigit())]\n",
    "test = test[test['class_id'].apply(lambda x: str(x).isdigit())]\n",
    "test = test[test['test_level_id'].apply(lambda x: str(x).isdigit())]\n",
    "test = test[test['licence_id'].apply(lambda x: str(x).isdigit())]\n",
    "\n",
    "# Clear empty overall_score and authorized_at rows\n",
    "test = test[test['test_status'].notna()]\n",
    "test = test[test['authorized_at'].notna()]"
   ]
  },
  {
   "cell_type": "code",
   "execution_count": 3,
   "metadata": {
    "scrolled": false
   },
   "outputs": [],
   "source": [
    "### Task 3 - prepare test_utilization.csv\n",
    "\n",
    "import numpy as np\n",
    "import datetime\n",
    "\n",
    "# Transform date ie. 06.07.18 11:37 to 2018-07-06 (YY-MM-DD format)\n",
    "def adjust_format_to_date(row):\n",
    "    dd_c = datetime.datetime.strptime(row['test_created_at'][:8],'%d.%m.%y')\n",
    "    dd_a = datetime.datetime.strptime(row['test_authorized_at'][:8],'%d.%m.%y')\n",
    "    dd_c = str(dd_c.year) + '-' + '%02d' % dd_c.month + '-' + '%02d' % dd_c.day\n",
    "    dd_a = str(dd_a.year) + '-' + '%02d' % dd_a.month + '-' + '%02d' % dd_a.day\n",
    "    return dd_c, dd_a\n",
    "\n",
    "# Get 'name' and 'teaching hours' from class_csv\n",
    "def get_name(row):\n",
    "    desired_row = class_csv[class_csv['id'] == row['class_id']]\n",
    "    return desired_row.values[0][3], desired_row.values[0][6]\n",
    "    \n",
    "# Copy from test desired columns in test_utilization.csv and sort by 'class_id'\n",
    "df = test.sort_values(by = ['class_id'])\n",
    "df = df[['class_id','created_at','authorized_at','test_level_id']]\n",
    "df.columns = ['class_id', 'test_created_at','test_authorized_at','test_level']\n",
    "\n",
    "# Change 'test_created_at' and 'test_authorized_at' date format\n",
    "df[['test_created_at', 'test_authorized_at']] = df.apply(adjust_format_to_date, axis=1, result_type=\"expand\")\n",
    "\n",
    "# Take class 'name' and 'teaching hours' from class_csv\n",
    "df[['class_name', 'teaching_hours']] = df.apply(get_name, axis=1, result_type=\"expand\")\n",
    "\n",
    "# Enumerate test_id from 1 to the range of data frame\n",
    "df['test_id'] = np.arange(1, df.shape[0]+1)\n",
    "\n",
    "# Make class_test_number\n",
    "df['class_test_number'] = df.groupby('class_id').cumcount()+1\n",
    "\n",
    "# Sort columns to desired order\n",
    "test_utilization = df[['class_id', 'class_name', 'teaching_hours', 'test_id', 'test_created_at', 'test_authorized_at', 'test_level', 'class_test_number']]"
   ]
  },
  {
   "cell_type": "code",
   "execution_count": 4,
   "metadata": {},
   "outputs": [
    {
     "name": "stderr",
     "output_type": "stream",
     "text": [
      "/opt/miniconda3/envs/mgr/lib/python3.7/site-packages/pandas/core/reshape/merge.py:617: UserWarning: merging between different levels can give an unintended result (1 levels on the left, 2 on the right)\n",
      "  warnings.warn(msg, UserWarning)\n"
     ]
    }
   ],
   "source": [
    "### Task 4 - prepare test_average_scores.csv\n",
    "\n",
    "# Take idx of test marked as SCORING_SCORED\n",
    "df = test[test['test_status'] == 'SCORING_SCORED']\n",
    "df = df[['class_id', 'created_at', 'authorized_at', 'overall_score']]\n",
    "df.columns = ['class_id', 'test_created_at', 'test_authorized_at', 'overall_score']\n",
    "\n",
    "# Change 'test_created_at' and 'test_authorized_at' date format\n",
    "df[['test_created_at', 'test_authorized_at']] = df.apply(adjust_format_to_date, axis=1, result_type=\"expand\")\n",
    "\n",
    "# Take the earliest/latest date from particular class (creation date/final authorization date)\n",
    "min_date = df.groupby(['class_id']).agg({'test_created_at': [np.min]})\n",
    "max_date = df.groupby(['class_id']).agg({'test_authorized_at': [np.max]})\n",
    "\n",
    "# Calculate avg_class_test_overall_score\n",
    "avg_score = df[['class_id','overall_score']].groupby('class_id').mean().round(2)\n",
    "\n",
    "# Join avg_class_test_overall_score with min_date and max_date \n",
    "avg_score = avg_score.join(min_date).join(max_date)\n",
    "avg_score = avg_score.reset_index()\n",
    "avg_score.columns = ['class_id', 'avg_class_test_overall_score', 'test_created_at', 'test_authorized_at']\n",
    "\n",
    "# Take class 'name' and 'teaching hours' from class_csv\n",
    "avg_score[['class_name', 'teaching_hours']] = avg_score.apply(get_name, axis=1, result_type=\"expand\")\n",
    "\n",
    "# Sort columns to desired order\n",
    "avg_score = avg_score[['class_id', 'class_name', 'teaching_hours', 'test_created_at', 'test_authorized_at', 'avg_class_test_overall_score']]"
   ]
  },
  {
   "cell_type": "code",
   "execution_count": 5,
   "metadata": {},
   "outputs": [],
   "source": [
    "### Task 5 - Save dataframes to the csv\n",
    "\n",
    "test_utilization.to_csv(path + 'test_utilization.csv')\n",
    "avg_score.to_csv(path + 'test_average_scores.csv')"
   ]
  },
  {
   "cell_type": "code",
   "execution_count": 69,
   "metadata": {},
   "outputs": [],
   "source": [
    "# Task 6 - Save datasets to DB tables\n",
    "\n",
    "import pandas as pd \n",
    "import sqlite3\n",
    "\n",
    "# Read csv files\n",
    "df_avg_score = pd.read_csv(path + 'test_average_scores.csv')\n",
    "df_test_util = pd.read_csv(path + 'test_utilization.csv')\n",
    "\n",
    "# Drop redundant idx column\n",
    "df_avg_score = df_avg_score.loc[:, df_avg_score.columns != 'Unnamed: 0']\n",
    "df_test_util = df_test_util.loc[:, df_test_util.columns != 'Unnamed: 0']\n",
    "\n",
    "# Take column names \n",
    "columns_avg = str(tuple(df_avg_score.columns.values))\n",
    "columns_util = str(tuple(df_test_util.columns.values))\n",
    "\n",
    "# Make database connection\n",
    "con = sqlite3.connect(\":memory:\") \n",
    "cur = con.cursor()\n",
    "\n",
    "# Create dedicated tables - each for one csv.\n",
    "cur.execute(\"CREATE TABLE avg_score \" + columns_avg + \";\") \n",
    "cur.execute(\"CREATE TABLE columns_util \" + columns_util + \";\") \n",
    "\n",
    "# Insert data into sqlite database\n",
    "df_avg_score.to_sql('avg_score', con, if_exists='append', index=False)\n",
    "df_test_util.to_sql('columns_util', con, if_exists='append', index=False)\n",
    "\n",
    "# See db result - unconment below 2 lines \n",
    "print(pd.read_sql_query(\"SELECT * FROM avg_score\", con))\n",
    "print(pd.read_sql_query(\"SELECT * FROM columns_util\", con))"
   ]
  },
  {
   "cell_type": "code",
   "execution_count": 1,
   "metadata": {},
   "outputs": [],
   "source": [
    "# Task 7 \n",
    "\n",
    "import numpy.testing"
   ]
  }
 ],
 "metadata": {
  "kernelspec": {
   "display_name": "Python 3",
   "language": "python",
   "name": "python3"
  },
  "language_info": {
   "codemirror_mode": {
    "name": "ipython",
    "version": 3
   },
   "file_extension": ".py",
   "mimetype": "text/x-python",
   "name": "python",
   "nbconvert_exporter": "python",
   "pygments_lexer": "ipython3",
   "version": "3.7.4"
  }
 },
 "nbformat": 4,
 "nbformat_minor": 2
}
